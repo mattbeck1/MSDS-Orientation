{
 "cells": [
  {
   "cell_type": "code",
   "execution_count": 29,
   "metadata": {},
   "outputs": [],
   "source": [
    "import pandas as pd\n",
    "import seaborn as sns\n",
    "import matplotlib.pyplot as plt\n",
    "import numpy as np"
   ]
  },
  {
   "cell_type": "code",
   "execution_count": 2,
   "metadata": {},
   "outputs": [],
   "source": [
    "data = pd.read_csv('MSDS_data.csv')"
   ]
  },
  {
   "cell_type": "code",
   "execution_count": 10,
   "metadata": {},
   "outputs": [],
   "source": [
    "data.drop_duplicates()\n",
    "data = data.loc[(data['CPU Cycle Rate (in GHz)'] > 1) & (data['CPU Cycle Rate (in GHz)'] < 5)]"
   ]
  },
  {
   "cell_type": "code",
   "execution_count": 12,
   "metadata": {},
   "outputs": [
    {
     "name": "stdout",
     "output_type": "stream",
     "text": [
      "0\n"
     ]
    }
   ],
   "source": [
    "print(sum(pd.isna(data['CPU Cycle Rate (in GHz)'])))"
   ]
  },
  {
   "cell_type": "code",
   "execution_count": 36,
   "metadata": {},
   "outputs": [
    {
     "data": {
      "text/html": [
       "<div>\n",
       "<style scoped>\n",
       "    .dataframe tbody tr th:only-of-type {\n",
       "        vertical-align: middle;\n",
       "    }\n",
       "\n",
       "    .dataframe tbody tr th {\n",
       "        vertical-align: top;\n",
       "    }\n",
       "\n",
       "    .dataframe thead th {\n",
       "        text-align: right;\n",
       "    }\n",
       "</style>\n",
       "<table border=\"1\" class=\"dataframe\">\n",
       "  <thead>\n",
       "    <tr style=\"text-align: right;\">\n",
       "      <th></th>\n",
       "      <th>Timestamp</th>\n",
       "      <th>What is your uva net id? (e.g. mst3k)</th>\n",
       "      <th>What is your github user name?</th>\n",
       "      <th>Operating System</th>\n",
       "      <th>CPU Cycle Rate (in GHz)</th>\n",
       "      <th>CPU Number of Cores (int)</th>\n",
       "      <th>RAM (in GB)</th>\n",
       "      <th>Hard Drive Size (in GB)</th>\n",
       "      <th>GPU (short description as a string)</th>\n",
       "      <th>GPU CUDA Number of Cores (int)</th>\n",
       "    </tr>\n",
       "  </thead>\n",
       "  <tbody>\n",
       "    <tr>\n",
       "      <th>1</th>\n",
       "      <td>6/12/2021 23:05</td>\n",
       "      <td>NaN</td>\n",
       "      <td>NaN</td>\n",
       "      <td>Windows</td>\n",
       "      <td>1.8</td>\n",
       "      <td>4</td>\n",
       "      <td>8</td>\n",
       "      <td>256</td>\n",
       "      <td>intel uhd 620</td>\n",
       "      <td>NaN</td>\n",
       "    </tr>\n",
       "    <tr>\n",
       "      <th>2</th>\n",
       "      <td>6/13/2021 20:36</td>\n",
       "      <td>NaN</td>\n",
       "      <td>NaN</td>\n",
       "      <td>Windows</td>\n",
       "      <td>2.8</td>\n",
       "      <td>4</td>\n",
       "      <td>16</td>\n",
       "      <td>460</td>\n",
       "      <td>Intel(R) Iris(R) Xe Graphics</td>\n",
       "      <td>NaN</td>\n",
       "    </tr>\n",
       "    <tr>\n",
       "      <th>3</th>\n",
       "      <td>6/13/2021 22:31</td>\n",
       "      <td>NaN</td>\n",
       "      <td>NaN</td>\n",
       "      <td>MacOS</td>\n",
       "      <td>3.1</td>\n",
       "      <td>2</td>\n",
       "      <td>8</td>\n",
       "      <td>512</td>\n",
       "      <td>Intel Iris Plus Graphics 650</td>\n",
       "      <td>NaN</td>\n",
       "    </tr>\n",
       "    <tr>\n",
       "      <th>4</th>\n",
       "      <td>6/14/2021 13:31</td>\n",
       "      <td>NaN</td>\n",
       "      <td>NaN</td>\n",
       "      <td>Windows</td>\n",
       "      <td>3.5</td>\n",
       "      <td>4</td>\n",
       "      <td>16</td>\n",
       "      <td>1000</td>\n",
       "      <td>NVIDIA GeForce GTX 1070 Ti</td>\n",
       "      <td>NaN</td>\n",
       "    </tr>\n",
       "    <tr>\n",
       "      <th>5</th>\n",
       "      <td>6/14/2021 14:13</td>\n",
       "      <td>NaN</td>\n",
       "      <td>NaN</td>\n",
       "      <td>MacOS</td>\n",
       "      <td>1.6</td>\n",
       "      <td>2</td>\n",
       "      <td>8</td>\n",
       "      <td>256</td>\n",
       "      <td>Intel HD Graphics 6000 1536 MB</td>\n",
       "      <td>NaN</td>\n",
       "    </tr>\n",
       "  </tbody>\n",
       "</table>\n",
       "</div>"
      ],
      "text/plain": [
       "         Timestamp What is your uva net id? (e.g. mst3k)  \\\n",
       "1  6/12/2021 23:05                                   NaN   \n",
       "2  6/13/2021 20:36                                   NaN   \n",
       "3  6/13/2021 22:31                                   NaN   \n",
       "4  6/14/2021 13:31                                   NaN   \n",
       "5  6/14/2021 14:13                                   NaN   \n",
       "\n",
       "  What is your github user name? Operating System  CPU Cycle Rate (in GHz)  \\\n",
       "1                            NaN          Windows                      1.8   \n",
       "2                            NaN          Windows                      2.8   \n",
       "3                            NaN            MacOS                      3.1   \n",
       "4                            NaN          Windows                      3.5   \n",
       "5                            NaN            MacOS                      1.6   \n",
       "\n",
       "   CPU Number of Cores (int)  RAM (in GB)  Hard Drive Size (in GB)  \\\n",
       "1                          4            8                      256   \n",
       "2                          4           16                      460   \n",
       "3                          2            8                      512   \n",
       "4                          4           16                     1000   \n",
       "5                          2            8                      256   \n",
       "\n",
       "  GPU (short description as a string)  GPU CUDA Number of Cores (int)  \n",
       "1                       intel uhd 620                             NaN  \n",
       "2        Intel(R) Iris(R) Xe Graphics                             NaN  \n",
       "3        Intel Iris Plus Graphics 650                             NaN  \n",
       "4          NVIDIA GeForce GTX 1070 Ti                             NaN  \n",
       "5      Intel HD Graphics 6000 1536 MB                             NaN  "
      ]
     },
     "execution_count": 36,
     "metadata": {},
     "output_type": "execute_result"
    }
   ],
   "source": [
    "data.loc[(data['Operating System'] == 'Windows 10'), 'Operating System'] = 'Windows'\n",
    "data.loc[(data['Operating System'] == 'Windows (by professional necessity), MacOS (by personal choice)'), 'Operating System'] = 'Windows'\n",
    "data.head()"
   ]
  },
  {
   "cell_type": "markdown",
   "metadata": {},
   "source": []
  },
  {
   "cell_type": "code",
   "execution_count": 35,
   "metadata": {},
   "outputs": [
    {
     "data": {
      "image/png": "[encoded data removed]",
      "text/plain": [
       "<Figure size 720x432 with 1 Axes>"
      ]
     },
     "metadata": {
      "needs_background": "light"
     },
     "output_type": "display_data"
    }
   ],
   "source": [
    "plt.figure(figsize=(10,6))\n",
    "sns.histplot(data=data, x='CPU Cycle Rate (in GHz)', hue='Operating System')\n",
    "plt.ylabel('Frequency')\n",
    "plt.title('CPU Cycle Rates of MSDS Students')\n",
    "plt.show()"
   ]
  },
  {
   "cell_type": "markdown",
   "metadata": {},
   "source": [
    "### Qualitative Analysis\n",
    "From the graph below we can see the CPU Cycle Rate of the students in the MSDS program along with their operating systems. The GPU's of the MSDS students are primarily Intel processors. "
   ]
  }
 ],
 "metadata": {
  "kernelspec": {
   "display_name": ".venv",
   "language": "python",
   "name": "python3"
  },
  "language_info": {
   "codemirror_mode": {
    "name": "ipython",
    "version": 3
   },
   "file_extension": ".py",
   "mimetype": "text/x-python",
   "name": "python",
   "nbconvert_exporter": "python",
   "pygments_lexer": "ipython3",
   "version": "3.6.8"
  }
 },
 "nbformat": 4,
 "nbformat_minor": 2
}
